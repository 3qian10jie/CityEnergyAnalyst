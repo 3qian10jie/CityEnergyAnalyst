{
 "cells": [
  {
   "cell_type": "code",
   "execution_count": 3,
   "metadata": {
    "collapsed": true
   },
   "outputs": [],
   "source": [
    "import sandbox.dthomas.functionlogger as fl\n",
    "import pickle"
   ]
  },
  {
   "cell_type": "code",
   "execution_count": 4,
   "metadata": {},
   "outputs": [],
   "source": [
    "fl.connect_to('sandbox/dthomas/cea.demand.log.sql')\n",
    "session = fl.Session()"
   ]
  },
  {
   "cell_type": "code",
   "execution_count": 5,
   "metadata": {},
   "outputs": [],
   "source": [
    "i = session.query(fl.Invocation).filter(fl.Invocation.name == 'get_temperatures').first()"
   ]
  },
  {
   "cell_type": "code",
   "execution_count": 6,
   "metadata": {},
   "outputs": [],
   "source": [
    "param = i.parameters[1]"
   ]
  },
  {
   "cell_type": "code",
   "execution_count": 7,
   "metadata": {},
   "outputs": [],
   "source": [
    "df = pickle.loads(param.value)"
   ]
  },
  {
   "cell_type": "code",
   "execution_count": 8,
   "metadata": {},
   "outputs": [
    {
     "name": "stdout",
     "output_type": "stream",
     "text": [
      "         Name type_cs type_ctrl type_dhw type_hs\n0     B154862      T0        T1       T1      T1\n1     B153604      T0        T1       T1      T1\n2     B153831      T0        T1       T1      T1\n3  B302022960      T0        T0       T0      T0\n4  B302034063      T0        T0       T0      T0\n\n[5 rows x 5 columns]\n"
     ]
    }
   ],
   "source": [
    "print df.head()"
   ]
  },
  {
   "cell_type": "code",
   "execution_count": 9,
   "metadata": {},
   "outputs": [],
   "source": [
    "result = pickle.loads(i.result)"
   ]
  },
  {
   "cell_type": "code",
   "execution_count": 10,
   "metadata": {},
   "outputs": [],
   "source": [
    "i = session.query(fl.Invocation).filter(fl.Invocation.name == 'get_prop_RC_model').first()"
   ]
  },
  {
   "cell_type": "code",
   "execution_count": 12,
   "metadata": {},
   "outputs": [
    {
     "data": {
      "text/plain": [
       "[<Parameter(name='uses', ptype='GeoDataFrame')>,\n <Parameter(name='architecture', ptype='GeoDataFrame')>,\n <Parameter(name='thermal', ptype='GeoDataFrame')>,\n <Parameter(name='geometry', ptype='GeoDataFrame')>,\n <Parameter(name='HVAC', ptype='DataFrame')>,\n <Parameter(name='rf', ptype='DataFrame')>,\n <Parameter(name='gv', ptype='GlobalVariables')>]"
      ]
     },
     "execution_count": 12,
     "metadata": {},
     "output_type": "execute_result"
    }
   ],
   "source": [
    "i.parameters"
   ]
  },
  {
   "cell_type": "code",
   "execution_count": 14,
   "metadata": {},
   "outputs": [
    {
     "name": "stdout",
     "output_type": "stream",
     "text": [
      "            GYM  HOSPITAL  HOTEL  INDUSTRIAL  MULTI_RES  OFFICE  PARKING  \\\nName                                                                       \nB154862       0         0      0           0          1       0        0   \nB153604       0         0      0           0          1       0        0   \nB153831       0         0      0           0          1       0        0   \nB302022960    0         0      0           0          0       0        1   \nB302034063    0         0      0           0          0       0        1   \n\n            PFloor  RETAIL  \nName                        \nB154862          1       0  \nB153604          1       0  \nB153831          1       0  \nB302022960       1       0  \nB302034063       1       0  \n\n[5 rows x 9 columns]\n"
     ]
    }
   ],
   "source": [
    "uses = pickle.loads(i.parameters[0].value)\n",
    "print uses.head()"
   ]
  },
  {
   "cell_type": "code",
   "execution_count": 20,
   "metadata": {},
   "outputs": [
    {
     "name": "stdout",
     "output_type": "stream",
     "text": [
      "              Awall_all         Atot          Aw           Am          Aef  \\\nName                                                                         \nB153767     1131.753410  4564.826718  452.701364  6947.966884  2171.239651   \nB9001534     943.202477  2417.881360  198.072520  2519.243091  1007.697237   \nB3169241     763.832840  2370.529289  236.788181  2643.309350  1057.323740   \nB153737      893.085303  2512.631400  187.547914  2515.352740  1006.141096   \nB302006714   124.628928   306.934423   49.851571   262.519914    82.037473   \n\n                     Af            Cm        Htr_is      Htr_em        Htr_ms  \\\nName                                                                            \nB153767     2171.239651  6.513719e+08  15748.652179  582.996335  63226.498647   \nB9001534    1007.697237  1.662700e+08   8341.690692  249.030900  22925.112131   \nB3169241    1057.323740  1.744584e+08   8178.326048  239.411374  24054.115088   \nB153737     1006.141096  1.660133e+08   8668.578331  375.236890  22889.709934   \nB302006714    82.037473  2.461124e+07   1058.923761   72.456838   2388.931219   \n\n                Htr_op          Hg          HD        Htr_w       GFA_m2  \nName                                                                      \nB153767     577.669781  285.763746  291.906035  1403.374229  2412.488502  \nB9001534    246.354798   48.172844  198.181954   257.494276  1228.899069  \nB3169241    237.051988   84.650889  152.401098   307.824635  1174.804156  \nB153737     369.184750   96.173466  273.011284   281.321870  1227.001337  \nB302006714   70.323898   25.522769   44.801128   154.539870    91.152748  \n\n[5 rows x 15 columns]\n"
     ]
    }
   ],
   "source": [
    "result = pickle.loads(i.result)\n",
    "print result.head()"
   ]
  },
  {
   "cell_type": "code",
   "execution_count": 21,
   "metadata": {},
   "outputs": [
    {
     "data": {
      "text/plain": [
       "Awall_all    1.131753e+03\nAtot         4.564827e+03\nAw           4.527014e+02\nAm           6.947967e+03\nAef          2.171240e+03\nAf           2.171240e+03\nCm           6.513719e+08\nHtr_is       1.574865e+04\nHtr_em       5.829963e+02\nHtr_ms       6.322650e+04\nHtr_op       5.776698e+02\nHg           2.857637e+02\nHD           2.919060e+02\nHtr_w        1.403374e+03\nGFA_m2       2.412489e+03\nName: B153767, dtype: float64"
      ]
     },
     "execution_count": 21,
     "metadata": {},
     "output_type": "execute_result"
    }
   ],
   "source": [
    "result.irow(0)"
   ]
  },
  {
   "cell_type": "code",
   "execution_count": null,
   "metadata": {},
   "outputs": [],
   "source": [
    "rf = pickle.loads(i.parameters[5])"
   ]
  },
  {
   "cell_type": "code",
   "execution_count": null,
   "metadata": {},
   "outputs": [],
   "source": [
    "print rf.head()"
   ]
  },
  {
   "cell_type": "code",
   "execution_count": null,
   "outputs": [],
   "source": [
    ""
   ]
  }
 ],
 "metadata": {
  "kernelspec": {
   "display_name": "Python 2",
   "language": "python",
   "name": "python2"
  },
  "language_info": {
   "codemirror_mode": {
    "name": "ipython",
    "version": 2.0
   },
   "file_extension": ".py",
   "mimetype": "text/x-python",
   "name": "python",
   "nbconvert_exporter": "python",
   "pygments_lexer": "ipython2",
   "version": "2.7.6"
  }
 },
 "nbformat": 4,
 "nbformat_minor": 0
}