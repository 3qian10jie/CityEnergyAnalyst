{
 "cells": [
  {
   "cell_type": "code",
   "execution_count": 1,
   "metadata": {
    "collapsed": true
   },
   "outputs": [],
   "source": [
    "import sandbox.dthomas.functionlogger as fl\n",
    "reload(fl)\n",
    "import pickle"
   ]
  },
  {
   "cell_type": "code",
   "execution_count": 2,
   "metadata": {},
   "outputs": [],
   "source": [
    "fl.connect_to('sandbox/dthomas/cea.demand.log.sql')\n",
    "session = fl.Session()"
   ]
  },
  {
   "cell_type": "code",
   "execution_count": 3,
   "metadata": {},
   "outputs": [],
   "source": [
    "i = session.query(fl.Invocation).filter(fl.Invocation.name == 'create_windows').first()"
   ]
  },
  {
   "cell_type": "code",
   "execution_count": 4,
   "metadata": {},
   "outputs": [
    {
     "name": "stdout",
     "output_type": "stream",
     "text": [
      "   angle_window  area_window  height_window_above_ground  \\\n0            90     1.910858                         1.5   \n1            90     2.276739                         1.5   \n2            90     2.276739                         4.5   \n3            90     2.276739                         7.5   \n4            90     2.276739                        10.5   \n\n   height_window_in_zone name_building  orientation_window  \n0                    1.5       B140589                   0  \n1                    1.5       B140590                 180  \n2                    4.5       B140590                 180  \n3                    7.5       B140590                 180  \n4                   10.5       B140590                 180  \n\n[5 rows x 6 columns]\n"
     ]
    }
   ],
   "source": [
    "print pickle.loads(i.result).head()"
   ]
  },
  {
   "cell_type": "code",
   "execution_count": 5,
   "metadata": {},
   "outputs": [],
   "source": [
    "args, ret = fl.read('calc_thermal_loads_new_ventilation')"
   ]
  },
  {
   "cell_type": "code",
   "execution_count": 6,
   "metadata": {},
   "outputs": [
    {
     "data": {
      "text/plain": [
       "[u'GYM',\n u'HOSPITAL',\n u'HOTEL',\n u'INDUSTRIAL',\n u'MULTI_RES',\n u'OFFICE',\n u'PARKING',\n u'RETAIL']"
      ]
     },
     "execution_count": 6,
     "metadata": {},
     "output_type": "execute_result"
    }
   ],
   "source": [
    "args.usage_schedules['list_uses']"
   ]
  },
  {
   "cell_type": "code",
   "execution_count": 7,
   "metadata": {},
   "outputs": [],
   "source": [
    "import cea.demand"
   ]
  },
  {
   "cell_type": "code",
   "execution_count": 9,
   "metadata": {},
   "outputs": [
    {
     "ename": "AttributeError",
     "evalue": "'BuildingProperties' object has no attribute 'list_building_name'",
     "traceback": [
      "\u001b[1;31m\u001b[0m",
      "\u001b[1;31mAttributeError\u001b[0mTraceback (most recent call last)",
      "\u001b[1;32m<ipython-input-9-35690ede11b3>\u001b[0m in \u001b[0;36m<module>\u001b[1;34m()\u001b[0m\n\u001b[1;32m----> 1\u001b[1;33m \u001b[0mtype\u001b[0m\u001b[1;33m(\u001b[0m\u001b[0margs\u001b[0m\u001b[1;33m.\u001b[0m\u001b[0mbuilding_properties\u001b[0m\u001b[1;33m.\u001b[0m\u001b[0mlist_building_name\u001b[0m\u001b[1;33m(\u001b[0m\u001b[1;33m)\u001b[0m\u001b[1;33m[\u001b[0m\u001b[1;36m0\u001b[0m\u001b[1;33m]\u001b[0m\u001b[1;33m)\u001b[0m\u001b[1;33m\u001b[0m\u001b[0m\n\u001b[0m",
      "\u001b[1;31mAttributeError\u001b[0m: 'BuildingProperties' object has no attribute 'list_building_name'"
     ],
     "output_type": "error"
    }
   ],
   "source": [
    "type(args.building_properties.list_building_name()[0])"
   ]
  },
  {
   "cell_type": "code",
   "execution_count": 13,
   "metadata": {},
   "outputs": [],
   "source": [
    "type(args.building_properties.get_prop_occupancy('B153767'))"
   ]
  },
  {
   "cell_type": "code",
   "execution_count": 10,
   "metadata": {},
   "outputs": [],
   "source": [
    "args.building_properties.\n",
    "    "
   ]
  },
  {
   "cell_type": "code",
   "execution_count": null,
   "outputs": [],
   "source": [
    ""
   ]
  }
 ],
 "metadata": {
  "kernelspec": {
   "display_name": "Python 2",
   "language": "python",
   "name": "python2"
  },
  "language_info": {
   "codemirror_mode": {
    "name": "ipython",
    "version": 2.0
   },
   "file_extension": ".py",
   "mimetype": "text/x-python",
   "name": "python",
   "nbconvert_exporter": "python",
   "pygments_lexer": "ipython2",
   "version": "2.7.6"
  }
 },
 "nbformat": 4,
 "nbformat_minor": 0
}