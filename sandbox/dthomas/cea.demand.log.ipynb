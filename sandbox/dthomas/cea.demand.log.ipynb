{
 "cells": [
  {
   "cell_type": "code",
   "execution_count": 1,
   "metadata": {
    "collapsed": true
   },
   "outputs": [],
   "source": [
    "import sandbox.dthomas.functionlogger as fl\n",
    "reload(fl)\n",
    "import pickle"
   ]
  },
  {
   "cell_type": "code",
   "execution_count": 2,
   "metadata": {},
   "outputs": [],
   "source": [
    "fl.connect_to('sandbox/dthomas/cea.demand.log.sql')\n",
    "session = fl.Session()"
   ]
  },
  {
   "cell_type": "code",
   "execution_count": 3,
   "metadata": {},
   "outputs": [],
   "source": [
    "i = session.query(fl.Invocation).filter(fl.Invocation.name == 'create_windows').first()"
   ]
  },
  {
   "cell_type": "code",
   "execution_count": 4,
   "metadata": {},
   "outputs": [
    {
     "name": "stdout",
     "output_type": "stream",
     "text": [
      "   angle_window  area_window  height_window_above_ground  \\\n0            90     1.910858                         1.5   \n1            90     2.276739                         1.5   \n2            90     2.276739                         4.5   \n3            90     2.276739                         7.5   \n4            90     2.276739                        10.5   \n\n   height_window_in_zone name_building  orientation_window  \n0                    1.5       B140589                   0  \n1                    1.5       B140590                 180  \n2                    4.5       B140590                 180  \n3                    7.5       B140590                 180  \n4                   10.5       B140590                 180  \n\n[5 rows x 6 columns]\n"
     ]
    }
   ],
   "source": [
    "print pickle.loads(i.result).head()"
   ]
  },
  {
   "cell_type": "code",
   "execution_count": 5,
   "metadata": {},
   "outputs": [],
   "source": [
    "args, ret = fl.read('calc_thermal_loads_new_ventilation')"
   ]
  },
  {
   "cell_type": "code",
   "execution_count": 6,
   "metadata": {},
   "outputs": [
    {
     "data": {
      "text/plain": [
       "[u'GYM',\n u'HOSPITAL',\n u'HOTEL',\n u'INDUSTRIAL',\n u'MULTI_RES',\n u'OFFICE',\n u'PARKING',\n u'RETAIL']"
      ]
     },
     "execution_count": 6,
     "metadata": {},
     "output_type": "execute_result"
    }
   ],
   "source": [
    "args.usage_schedules['list_uses']"
   ]
  },
  {
   "cell_type": "code",
   "execution_count": 7,
   "metadata": {},
   "outputs": [],
   "source": [
    "import cea.demand"
   ]
  },
  {
   "cell_type": "code",
   "execution_count": 25,
   "metadata": {},
   "outputs": [
    {
     "data": {
      "text/plain": [
       "type_hs        T1\ntype_cs        T0\ntype_dhw       T1\ntype_ctrl      T1\nTshs0_C        90\ndThs0_C        20\nQhsmax_Wm2    500\nTscs0_C         0\ndTcs0_C         0\nQcsmax_Wm2      0\nTsww0_C        60\ndTww0_C        50\nQwwmax_Wm2    500\nName: B140590, dtype: object"
      ]
     },
     "execution_count": 25,
     "metadata": {},
     "output_type": "execute_result"
    }
   ],
   "source": [
    "args.building_properties.get_prop_hvac('B140590')"
   ]
  },
  {
   "cell_type": "code",
   "execution_count": 22,
   "metadata": {},
   "outputs": [
    {
     "data": {
      "text/plain": [
       "['B155128', 'B2372562', 'B302006827', 'B302020945', 'B302006890']"
      ]
     },
     "execution_count": 22,
     "metadata": {},
     "output_type": "execute_result"
    }
   ],
   "source": [
    "import random\n",
    "random.sample(args.building_properties.list_building_names(), 5)"
   ]
  },
  {
   "cell_type": "code",
   "execution_count": 21,
   "metadata": {},
   "outputs": [],
   "source": [
    ""
   ]
  },
  {
   "cell_type": "code",
   "execution_count": null,
   "metadata": {},
   "outputs": [],
   "source": [
    ""
   ]
  }
 ],
 "metadata": {
  "kernelspec": {
   "display_name": "Python 2",
   "language": "python",
   "name": "python2"
  },
  "language_info": {
   "codemirror_mode": {
    "name": "ipython",
    "version": 2.0
   },
   "file_extension": ".py",
   "mimetype": "text/x-python",
   "name": "python",
   "nbconvert_exporter": "python",
   "pygments_lexer": "ipython2",
   "version": "2.7.6"
  }
 },
 "nbformat": 4,
 "nbformat_minor": 0
}