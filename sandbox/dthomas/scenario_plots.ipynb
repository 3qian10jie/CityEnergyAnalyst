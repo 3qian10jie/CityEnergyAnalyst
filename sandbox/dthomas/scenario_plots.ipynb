{
 "cells": [
  {
   "cell_type": "code",
   "execution_count": 1,
   "metadata": {
    "collapsed": true
   },
   "outputs": [],
   "source": [
    "%matplotlib inline"
   ]
  },
  {
   "cell_type": "code",
   "execution_count": 2,
   "metadata": {
    "collapsed": true
   },
   "outputs": [],
   "source": [
    "import matplotlib.pyplot as plt\n",
    "import pandas as pd"
   ]
  },
  {
   "cell_type": "markdown",
   "metadata": {},
   "source": [
    "# Connect to CEA code"
   ]
  },
  {
   "cell_type": "code",
   "execution_count": 3,
   "metadata": {
    "collapsed": false
   },
   "outputs": [],
   "source": [
    "import sys\n",
    "import os\n",
    "sys.path.append(os.path.expandvars(r'%USERPROFILE%\\Documents\\GitHub\\CEAforArcGIS'))\n",
    "from cea import inputlocator"
   ]
  },
  {
   "cell_type": "markdown",
   "metadata": {},
   "source": [
    "# Locate the scenarios"
   ]
  },
  {
   "cell_type": "code",
   "execution_count": 4,
   "metadata": {
    "collapsed": false
   },
   "outputs": [],
   "source": [
    "SCENARIOS_ROOT = r'C:\\reference-case'\n",
    "locators = [inputlocator.InputLocator(os.path.join(SCENARIOS_ROOT, scenario)) for scenario in os.listdir(SCENARIOS_ROOT)\n",
    "            if os.path.isdir(os.path.join(SCENARIOS_ROOT))]"
   ]
  },
  {
   "cell_type": "code",
   "execution_count": 5,
   "metadata": {
    "collapsed": false
   },
   "outputs": [],
   "source": [
    "final_heating_demand = pd.DataFrame()\n",
    "for locator in locators:\n",
    "    scenario_name = os.path.basename(locator.scenario_path)\n",
    "    if os.path.exists(locator.get_total_demand()):\n",
    "        df = pd.read_csv(locator.get_total_demand())\n",
    "        final_heating_demand[scenario_name] = df['QHf_MWhyr']"
   ]
  },
  {
   "cell_type": "code",
   "execution_count": 14,
   "metadata": {
    "collapsed": false
   },
   "outputs": [
    {
     "data": {
      "image/png": "[encoded data removed]",
      "text/plain": [
       "<matplotlib.figure.Figure at 0x7692130>"
      ]
     },
     "metadata": {},
     "output_type": "display_data"
    }
   ],
   "source": [
    "fig, ax1 = plt.subplots()\n",
    "ax2 = ax1.twinx()\n",
    "final_heating_demand.sum().plot(ax=ax1, style='Dg')\n",
    "locs = ax1.get_xticks()\n",
    "\n",
    "final_heating_demand.boxplot(ax=ax2, positions=[1, 2, 3, 4], sym='')\n",
    "locs2 = ax2.get_xticks()\n",
    "plt.suptitle('hello, world')\n",
    "plt.show(fig)"
   ]
  },
  {
   "cell_type": "code",
   "execution_count": 7,
   "metadata": {
    "collapsed": false
   },
   "outputs": [
    {
     "data": {
      "image/png": "[encoded data removed]",
      "text/plain": [
       "<matplotlib.figure.Figure at 0x5ce29d0>"
      ]
     },
     "metadata": {},
     "output_type": "display_data"
    }
   ],
   "source": [
    "fig, ax1 = plt.subplots()\n",
    "ax2 = ax1.twinx()\n",
    "final_heating_demand.boxplot(ax=ax1, sym='')\n",
    "y = final_heating_demand.sum().ravel()\n",
    "ax2.set_ylim(bottom=0, top=max(y) * 1.1)\n",
    "x = ax1.get_xticks()\n",
    "plt.scatter(x, y, marker='D', color='g')\n",
    "plt.show(fig)"
   ]
  },
  {
   "cell_type": "code",
   "execution_count": 13,
   "metadata": {
    "collapsed": false
   },
   "outputs": [],
   "source": [
    "plt.title?"
   ]
  },
  {
   "cell_type": "code",
   "execution_count": 9,
   "metadata": {
    "collapsed": false
   },
   "outputs": [
    {
     "data": {
      "text/plain": [
       "<a list of 4 Text xticklabel objects>"
      ]
     },
     "execution_count": 9,
     "metadata": {},
     "output_type": "execute_result"
    }
   ],
   "source": [
    "ax2.get_xticklabels()"
   ]
  },
  {
   "cell_type": "code",
   "execution_count": 10,
   "metadata": {
    "collapsed": false,
    "scrolled": true
   },
   "outputs": [
    {
     "data": {
      "text/plain": [
       "array([ 270995.64,  270995.64,  270995.64,  270995.64])"
      ]
     },
     "execution_count": 10,
     "metadata": {},
     "output_type": "execute_result"
    }
   ],
   "source": [
    "final_heating_demand.sum().ravel()"
   ]
  },
  {
   "cell_type": "code",
   "execution_count": 11,
   "metadata": {
    "collapsed": false
   },
   "outputs": [
    {
     "data": {
      "text/plain": [
       "4"
      ]
     },
     "execution_count": 11,
     "metadata": {},
     "output_type": "execute_result"
    }
   ],
   "source": [
    "final_heating_demand.sum().shape[0]"
   ]
  },
  {
   "cell_type": "code",
   "execution_count": 12,
   "metadata": {
    "collapsed": false
   },
   "outputs": [
    {
     "ename": "NameError",
     "evalue": "name 'locator1' is not defined",
     "output_type": "error",
     "traceback": [
      "\u001b[1;31m---------------------------------------------------------------------------\u001b[0m",
      "\u001b[1;31mNameError\u001b[0m                                 Traceback (most recent call last)",
      "\u001b[1;32m<ipython-input-12-09147cde9ca7>\u001b[0m in \u001b[0;36m<module>\u001b[1;34m()\u001b[0m\n\u001b[1;32m----> 1\u001b[1;33m \u001b[0mdf\u001b[0m \u001b[1;33m=\u001b[0m \u001b[0mpd\u001b[0m\u001b[1;33m.\u001b[0m\u001b[0mread_csv\u001b[0m\u001b[1;33m(\u001b[0m\u001b[0mlocator1\u001b[0m\u001b[1;33m.\u001b[0m\u001b[0mget_total_demand\u001b[0m\u001b[1;33m(\u001b[0m\u001b[1;33m)\u001b[0m\u001b[1;33m)\u001b[0m\u001b[1;33m.\u001b[0m\u001b[0mset_index\u001b[0m\u001b[1;33m(\u001b[0m\u001b[1;34m'Name'\u001b[0m\u001b[1;33m)\u001b[0m\u001b[1;33m\u001b[0m\u001b[0m\n\u001b[0m\u001b[0;32m      2\u001b[0m \u001b[0mlist\u001b[0m\u001b[1;33m(\u001b[0m\u001b[0mdf\u001b[0m\u001b[1;33m.\u001b[0m\u001b[0mcolumns\u001b[0m\u001b[1;33m)\u001b[0m\u001b[1;33m\u001b[0m\u001b[0m\n",
      "\u001b[1;31mNameError\u001b[0m: name 'locator1' is not defined"
     ]
    }
   ],
   "source": [
    "df = pd.read_csv(locator1.get_total_demand()).set_index('Name')\n",
    "list(df.columns)"
   ]
  },
  {
   "cell_type": "code",
   "execution_count": null,
   "metadata": {
    "collapsed": false
   },
   "outputs": [],
   "source": [
    "demand_plot_columns = ['Ef_MWhyr', 'QHf_MWhyr', 'QCf_MWhyr']\n",
    "embodied_plot_columns = ['pen_MJm2', 'pen_GJ', 'ghg_kgm2', 'ghg_ton']\n",
    "operation_plot_columns = ['pen_MJm2', 'pen_GJ', 'ghg_kgm2', 'ghg_ton']"
   ]
  },
  {
   "cell_type": "code",
   "execution_count": null,
   "metadata": {
    "collapsed": false
   },
   "outputs": [],
   "source": [
    "locator1.get_lca_embodied('pen_MJm2')"
   ]
  },
  {
   "cell_type": "code",
   "execution_count": null,
   "metadata": {
    "collapsed": false
   },
   "outputs": [],
   "source": [
    "list(pd.read_csv(locator1.get_lca_embodied()).set_index('Name').columns)"
   ]
  },
  {
   "cell_type": "code",
   "execution_count": null,
   "metadata": {
    "collapsed": false
   },
   "outputs": [],
   "source": [
    "list(pd.read_csv(locator1.get_lca_operation()).set_index('Name').columns)"
   ]
  },
  {
   "cell_type": "code",
   "execution_count": null,
   "metadata": {
    "collapsed": false
   },
   "outputs": [],
   "source": [
    "nrows = len(demand_plot_columns) + len(embodied_plot_columns) + len(operation_plot_columns)\n",
    "fig, axes = plt.subplots(nrows=nrows)"
   ]
  },
  {
   "cell_type": "code",
   "execution_count": null,
   "metadata": {
    "collapsed": false
   },
   "outputs": [],
   "source": [
    "len(axes), nrows"
   ]
  },
  {
   "cell_type": "code",
   "execution_count": null,
   "metadata": {
    "collapsed": false
   },
   "outputs": [],
   "source": [
    "\"\"\"\n",
    "This is a demo of creating a pdf file with several pages,\n",
    "as well as adding metadata and annotations to pdf files.\n",
    "\"\"\"\n",
    "\n",
    "import datetime\n",
    "import numpy as np\n",
    "from matplotlib.backends.backend_pdf import PdfPages\n",
    "import matplotlib.pyplot as plt\n",
    "\n",
    "# Create the PdfPages object to which we will save the pages:\n",
    "# The with statement makes sure that the PdfPages object is closed properly at\n",
    "# the end of the block, even if an Exception occurs.\n",
    "with PdfPages('multipage_pdf.pdf') as pdf:\n",
    "    plt.figure(figsize=(3, 3))\n",
    "    plt.plot(range(7), [3, 1, 4, 1, 5, 9, 2], 'r-o')\n",
    "    plt.title('Page One')\n",
    "    pdf.savefig()  # saves the current figure into a pdf page\n",
    "    plt.close()\n",
    "\n",
    "    plt.rc('text', usetex=True)\n",
    "    plt.figure(figsize=(8, 6))\n",
    "    x = np.arange(0, 5, 0.1)\n",
    "    plt.plot(x, np.sin(x), 'b-')\n",
    "    plt.title('Page Two')\n",
    "    #pdf.attach_note(\"plot of sin(x)\")  # you can add a pdf note to\n",
    "                                       # attach metadata to a page\n",
    "    pdf.savefig()\n",
    "    plt.close()\n",
    "\n",
    "    plt.rc('text', usetex=False)\n",
    "    fig = plt.figure(figsize=(4, 5))\n",
    "    plt.plot(x, x*x, 'ko')\n",
    "    plt.title('Page Three')\n",
    "    pdf.savefig(fig)  # or you can pass a Figure object to pdf.savefig\n",
    "    plt.close()\n",
    "\n",
    "    # We can also set the file's metadata via the PdfPages object:\n",
    "    d = pdf.infodict()\n",
    "    d['Title'] = 'Multipage PDF Example'\n",
    "    d['Author'] = u'Daren Thomas'\n",
    "    d['Subject'] = 'How to create a multipage pdf file and set its metadata'\n",
    "    d['Keywords'] = 'PdfPages multipage keywords author title subject'\n",
    "    d['CreationDate'] = datetime.datetime(2009, 11, 13)\n",
    "    d['ModDate'] = datetime.datetime.today()"
   ]
  },
  {
   "cell_type": "code",
   "execution_count": null,
   "metadata": {
    "collapsed": true
   },
   "outputs": [],
   "source": []
  }
 ],
 "metadata": {
  "kernelspec": {
   "display_name": "Python 2",
   "language": "python",
   "name": "python2"
  },
  "language_info": {
   "codemirror_mode": {
    "name": "ipython",
    "version": 2
   },
   "file_extension": ".py",
   "mimetype": "text/x-python",
   "name": "python",
   "nbconvert_exporter": "python",
   "pygments_lexer": "ipython2",
   "version": "2.7.11"
  }
 },
 "nbformat": 4,
 "nbformat_minor": 0
}
