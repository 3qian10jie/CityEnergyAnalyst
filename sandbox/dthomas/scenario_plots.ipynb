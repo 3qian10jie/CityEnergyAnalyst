{
 "cells": [
  {
   "cell_type": "code",
   "execution_count": 1,
   "metadata": {
    "collapsed": true
   },
   "outputs": [],
   "source": [
    "%matplotlib inline"
   ]
  },
  {
   "cell_type": "code",
   "execution_count": 2,
   "metadata": {
    "collapsed": true
   },
   "outputs": [],
   "source": [
    "import matplotlib.pyplot as plt\n",
    "import pandas as pd"
   ]
  },
  {
   "cell_type": "markdown",
   "metadata": {},
   "source": [
    "# Connect to CEA code"
   ]
  },
  {
   "cell_type": "code",
   "execution_count": 22,
   "metadata": {
    "collapsed": false
   },
   "outputs": [],
   "source": [
    "import sys\n",
    "import os\n",
    "sys.path.append(os.path.expandvars(r'%USERPROFILE%\\Documents\\GitHub\\CEAforArcGIS'))"
   ]
  },
  {
   "cell_type": "code",
   "execution_count": 45,
   "metadata": {
    "collapsed": false
   },
   "outputs": [],
   "source": [
    "from cea import inputlocator\n",
    "locator1 = inputlocator.InputLocator(r'C:\\reference-case\\baseline')\n",
    "locator2 = inputlocator.InputLocator(r'C:\\reference-case\\masterplan')"
   ]
  },
  {
   "cell_type": "code",
   "execution_count": 46,
   "metadata": {
    "collapsed": false
   },
   "outputs": [
    {
     "ename": "IOError",
     "evalue": "File C:\\reference-case\\masterplan\\outputs\\data\\demand\\Total_demand.csv does not exist",
     "output_type": "error",
     "traceback": [
      "\u001b[1;31m---------------------------------------------------------------------------\u001b[0m",
      "\u001b[1;31mIOError\u001b[0m                                   Traceback (most recent call last)",
      "\u001b[1;32m<ipython-input-46-728ad9432f95>\u001b[0m in \u001b[0;36m<module>\u001b[1;34m()\u001b[0m\n\u001b[0;32m      1\u001b[0m \u001b[0mdf1\u001b[0m \u001b[1;33m=\u001b[0m \u001b[0mpd\u001b[0m\u001b[1;33m.\u001b[0m\u001b[0mread_csv\u001b[0m\u001b[1;33m(\u001b[0m\u001b[0mlocator1\u001b[0m\u001b[1;33m.\u001b[0m\u001b[0mget_total_demand\u001b[0m\u001b[1;33m(\u001b[0m\u001b[1;33m)\u001b[0m\u001b[1;33m)\u001b[0m\u001b[1;33m.\u001b[0m\u001b[0mset_index\u001b[0m\u001b[1;33m(\u001b[0m\u001b[1;34m'Name'\u001b[0m\u001b[1;33m)\u001b[0m\u001b[1;33m\u001b[0m\u001b[0m\n\u001b[1;32m----> 2\u001b[1;33m \u001b[0mdf2\u001b[0m \u001b[1;33m=\u001b[0m \u001b[0mpd\u001b[0m\u001b[1;33m.\u001b[0m\u001b[0mread_csv\u001b[0m\u001b[1;33m(\u001b[0m\u001b[0mlocator2\u001b[0m\u001b[1;33m.\u001b[0m\u001b[0mget_total_demand\u001b[0m\u001b[1;33m(\u001b[0m\u001b[1;33m)\u001b[0m\u001b[1;33m)\u001b[0m\u001b[1;33m.\u001b[0m\u001b[0mset_index\u001b[0m\u001b[1;33m(\u001b[0m\u001b[1;34m'Name'\u001b[0m\u001b[1;33m)\u001b[0m\u001b[1;33m\u001b[0m\u001b[0m\n\u001b[0m",
      "\u001b[1;32mC:\\Users\\darthoma\\Anaconda2\\envs\\esri103\\lib\\site-packages\\pandas\\io\\parsers.pyc\u001b[0m in \u001b[0;36mparser_f\u001b[1;34m(filepath_or_buffer, sep, dialect, compression, doublequote, escapechar, quotechar, quoting, skipinitialspace, lineterminator, header, index_col, names, prefix, skiprows, skipfooter, skip_footer, na_values, na_fvalues, true_values, false_values, delimiter, converters, dtype, usecols, engine, delim_whitespace, as_recarray, na_filter, compact_ints, use_unsigned, low_memory, buffer_lines, warn_bad_lines, error_bad_lines, keep_default_na, thousands, comment, decimal, parse_dates, keep_date_col, dayfirst, date_parser, memory_map, nrows, iterator, chunksize, verbose, encoding, squeeze, mangle_dupe_cols, tupleize_cols)\u001b[0m\n\u001b[0;32m    402\u001b[0m                     tupleize_cols=tupleize_cols)\n\u001b[0;32m    403\u001b[0m \u001b[1;33m\u001b[0m\u001b[0m\n\u001b[1;32m--> 404\u001b[1;33m         \u001b[1;32mreturn\u001b[0m \u001b[0m_read\u001b[0m\u001b[1;33m(\u001b[0m\u001b[0mfilepath_or_buffer\u001b[0m\u001b[1;33m,\u001b[0m \u001b[0mkwds\u001b[0m\u001b[1;33m)\u001b[0m\u001b[1;33m\u001b[0m\u001b[0m\n\u001b[0m\u001b[0;32m    405\u001b[0m \u001b[1;33m\u001b[0m\u001b[0m\n\u001b[0;32m    406\u001b[0m     \u001b[0mparser_f\u001b[0m\u001b[1;33m.\u001b[0m\u001b[0m__name__\u001b[0m \u001b[1;33m=\u001b[0m \u001b[0mname\u001b[0m\u001b[1;33m\u001b[0m\u001b[0m\n",
      "\u001b[1;32mC:\\Users\\darthoma\\Anaconda2\\envs\\esri103\\lib\\site-packages\\pandas\\io\\parsers.pyc\u001b[0m in \u001b[0;36m_read\u001b[1;34m(filepath_or_buffer, kwds)\u001b[0m\n\u001b[0;32m    203\u001b[0m \u001b[1;33m\u001b[0m\u001b[0m\n\u001b[0;32m    204\u001b[0m     \u001b[1;31m# Create the parser.\u001b[0m\u001b[1;33m\u001b[0m\u001b[1;33m\u001b[0m\u001b[0m\n\u001b[1;32m--> 205\u001b[1;33m     \u001b[0mparser\u001b[0m \u001b[1;33m=\u001b[0m \u001b[0mTextFileReader\u001b[0m\u001b[1;33m(\u001b[0m\u001b[0mfilepath_or_buffer\u001b[0m\u001b[1;33m,\u001b[0m \u001b[1;33m**\u001b[0m\u001b[0mkwds\u001b[0m\u001b[1;33m)\u001b[0m\u001b[1;33m\u001b[0m\u001b[0m\n\u001b[0m\u001b[0;32m    206\u001b[0m \u001b[1;33m\u001b[0m\u001b[0m\n\u001b[0;32m    207\u001b[0m     \u001b[1;32mif\u001b[0m \u001b[0mnrows\u001b[0m \u001b[1;32mis\u001b[0m \u001b[1;32mnot\u001b[0m \u001b[0mNone\u001b[0m\u001b[1;33m:\u001b[0m\u001b[1;33m\u001b[0m\u001b[0m\n",
      "\u001b[1;32mC:\\Users\\darthoma\\Anaconda2\\envs\\esri103\\lib\\site-packages\\pandas\\io\\parsers.pyc\u001b[0m in \u001b[0;36m__init__\u001b[1;34m(self, f, engine, **kwds)\u001b[0m\n\u001b[0;32m    484\u001b[0m             \u001b[0mself\u001b[0m\u001b[1;33m.\u001b[0m\u001b[0moptions\u001b[0m\u001b[1;33m[\u001b[0m\u001b[1;34m'has_index_names'\u001b[0m\u001b[1;33m]\u001b[0m \u001b[1;33m=\u001b[0m \u001b[0mkwds\u001b[0m\u001b[1;33m[\u001b[0m\u001b[1;34m'has_index_names'\u001b[0m\u001b[1;33m]\u001b[0m\u001b[1;33m\u001b[0m\u001b[0m\n\u001b[0;32m    485\u001b[0m \u001b[1;33m\u001b[0m\u001b[0m\n\u001b[1;32m--> 486\u001b[1;33m         \u001b[0mself\u001b[0m\u001b[1;33m.\u001b[0m\u001b[0m_make_engine\u001b[0m\u001b[1;33m(\u001b[0m\u001b[0mself\u001b[0m\u001b[1;33m.\u001b[0m\u001b[0mengine\u001b[0m\u001b[1;33m)\u001b[0m\u001b[1;33m\u001b[0m\u001b[0m\n\u001b[0m\u001b[0;32m    487\u001b[0m \u001b[1;33m\u001b[0m\u001b[0m\n\u001b[0;32m    488\u001b[0m     \u001b[1;32mdef\u001b[0m \u001b[0m_get_options_with_defaults\u001b[0m\u001b[1;33m(\u001b[0m\u001b[0mself\u001b[0m\u001b[1;33m,\u001b[0m \u001b[0mengine\u001b[0m\u001b[1;33m)\u001b[0m\u001b[1;33m:\u001b[0m\u001b[1;33m\u001b[0m\u001b[0m\n",
      "\u001b[1;32mC:\\Users\\darthoma\\Anaconda2\\envs\\esri103\\lib\\site-packages\\pandas\\io\\parsers.pyc\u001b[0m in \u001b[0;36m_make_engine\u001b[1;34m(self, engine)\u001b[0m\n\u001b[0;32m    592\u001b[0m     \u001b[1;32mdef\u001b[0m \u001b[0m_make_engine\u001b[0m\u001b[1;33m(\u001b[0m\u001b[0mself\u001b[0m\u001b[1;33m,\u001b[0m \u001b[0mengine\u001b[0m\u001b[1;33m=\u001b[0m\u001b[1;34m'c'\u001b[0m\u001b[1;33m)\u001b[0m\u001b[1;33m:\u001b[0m\u001b[1;33m\u001b[0m\u001b[0m\n\u001b[0;32m    593\u001b[0m         \u001b[1;32mif\u001b[0m \u001b[0mengine\u001b[0m \u001b[1;33m==\u001b[0m \u001b[1;34m'c'\u001b[0m\u001b[1;33m:\u001b[0m\u001b[1;33m\u001b[0m\u001b[0m\n\u001b[1;32m--> 594\u001b[1;33m             \u001b[0mself\u001b[0m\u001b[1;33m.\u001b[0m\u001b[0m_engine\u001b[0m \u001b[1;33m=\u001b[0m \u001b[0mCParserWrapper\u001b[0m\u001b[1;33m(\u001b[0m\u001b[0mself\u001b[0m\u001b[1;33m.\u001b[0m\u001b[0mf\u001b[0m\u001b[1;33m,\u001b[0m \u001b[1;33m**\u001b[0m\u001b[0mself\u001b[0m\u001b[1;33m.\u001b[0m\u001b[0moptions\u001b[0m\u001b[1;33m)\u001b[0m\u001b[1;33m\u001b[0m\u001b[0m\n\u001b[0m\u001b[0;32m    595\u001b[0m         \u001b[1;32melse\u001b[0m\u001b[1;33m:\u001b[0m\u001b[1;33m\u001b[0m\u001b[0m\n\u001b[0;32m    596\u001b[0m             \u001b[1;32mif\u001b[0m \u001b[0mengine\u001b[0m \u001b[1;33m==\u001b[0m \u001b[1;34m'python'\u001b[0m\u001b[1;33m:\u001b[0m\u001b[1;33m\u001b[0m\u001b[0m\n",
      "\u001b[1;32mC:\\Users\\darthoma\\Anaconda2\\envs\\esri103\\lib\\site-packages\\pandas\\io\\parsers.pyc\u001b[0m in \u001b[0;36m__init__\u001b[1;34m(self, src, **kwds)\u001b[0m\n\u001b[0;32m    950\u001b[0m         \u001b[0mkwds\u001b[0m\u001b[1;33m[\u001b[0m\u001b[1;34m'allow_leading_cols'\u001b[0m\u001b[1;33m]\u001b[0m \u001b[1;33m=\u001b[0m \u001b[0mself\u001b[0m\u001b[1;33m.\u001b[0m\u001b[0mindex_col\u001b[0m \u001b[1;32mis\u001b[0m \u001b[1;32mnot\u001b[0m \u001b[0mFalse\u001b[0m\u001b[1;33m\u001b[0m\u001b[0m\n\u001b[0;32m    951\u001b[0m \u001b[1;33m\u001b[0m\u001b[0m\n\u001b[1;32m--> 952\u001b[1;33m         \u001b[0mself\u001b[0m\u001b[1;33m.\u001b[0m\u001b[0m_reader\u001b[0m \u001b[1;33m=\u001b[0m \u001b[0m_parser\u001b[0m\u001b[1;33m.\u001b[0m\u001b[0mTextReader\u001b[0m\u001b[1;33m(\u001b[0m\u001b[0msrc\u001b[0m\u001b[1;33m,\u001b[0m \u001b[1;33m**\u001b[0m\u001b[0mkwds\u001b[0m\u001b[1;33m)\u001b[0m\u001b[1;33m\u001b[0m\u001b[0m\n\u001b[0m\u001b[0;32m    953\u001b[0m \u001b[1;33m\u001b[0m\u001b[0m\n\u001b[0;32m    954\u001b[0m         \u001b[1;31m# XXX\u001b[0m\u001b[1;33m\u001b[0m\u001b[1;33m\u001b[0m\u001b[0m\n",
      "\u001b[1;32mparser.pyx\u001b[0m in \u001b[0;36mpandas.parser.TextReader.__cinit__ (pandas\\parser.c:3040)\u001b[1;34m()\u001b[0m\n",
      "\u001b[1;32mparser.pyx\u001b[0m in \u001b[0;36mpandas.parser.TextReader._setup_parser_source (pandas\\parser.c:5387)\u001b[1;34m()\u001b[0m\n",
      "\u001b[1;31mIOError\u001b[0m: File C:\\reference-case\\masterplan\\outputs\\data\\demand\\Total_demand.csv does not exist"
     ]
    }
   ],
   "source": [
    "df1 = pd.read_csv(locator1.get_total_demand()).set_index('Name')\n",
    "df2 = pd.read_csv(locator2.get_total_demand()).set_index('Name')"
   ]
  },
  {
   "cell_type": "code",
   "execution_count": 32,
   "metadata": {
    "collapsed": false
   },
   "outputs": [
    {
     "data": {
      "text/html": [
       "<div style=\"max-height:1000px;max-width:1500px;overflow:auto;\">\n",
       "<table border=\"1\" class=\"dataframe\">\n",
       "  <thead>\n",
       "    <tr style=\"text-align: right;\">\n",
       "      <th></th>\n",
       "      <th>Af_m2</th>\n",
       "      <th>Ealf0_kW</th>\n",
       "      <th>Ealf_MWhyr</th>\n",
       "      <th>Eauxf_MWhyr</th>\n",
       "      <th>Edataf_MWhyr</th>\n",
       "      <th>Ef_MWhyr</th>\n",
       "      <th>Eprof_MWhyr</th>\n",
       "      <th>QCf_MWhyr</th>\n",
       "      <th>QHf_MWhyr</th>\n",
       "      <th>Qcdataf_MWhyr</th>\n",
       "      <th>Qcref_MWhyr</th>\n",
       "      <th>Qcs_MWhyr</th>\n",
       "      <th>Qcsf0_kW</th>\n",
       "      <th>Qcsf_MWhyr</th>\n",
       "      <th>Qhs_MWhyr</th>\n",
       "      <th>Qhsf0_kW</th>\n",
       "      <th>Qhsf_MWhyr</th>\n",
       "      <th>Qww_MWhyr</th>\n",
       "      <th>Qwwf0_kW</th>\n",
       "      <th>Qwwf_MWhyr</th>\n",
       "      <th></th>\n",
       "    </tr>\n",
       "    <tr>\n",
       "      <th>Name</th>\n",
       "      <th></th>\n",
       "      <th></th>\n",
       "      <th></th>\n",
       "      <th></th>\n",
       "      <th></th>\n",
       "      <th></th>\n",
       "      <th></th>\n",
       "      <th></th>\n",
       "      <th></th>\n",
       "      <th></th>\n",
       "      <th></th>\n",
       "      <th></th>\n",
       "      <th></th>\n",
       "      <th></th>\n",
       "      <th></th>\n",
       "      <th></th>\n",
       "      <th></th>\n",
       "      <th></th>\n",
       "      <th></th>\n",
       "      <th></th>\n",
       "    </tr>\n",
       "  </thead>\n",
       "  <tbody>\n",
       "    <tr>\n",
       "      <th>B153767</th>\n",
       "      <td> 2171.24</td>\n",
       "      <td> 86365.64</td>\n",
       "      <td> 197466.40</td>\n",
       "      <td> 2.69</td>\n",
       "      <td> 0</td>\n",
       "      <td> 197469.08</td>\n",
       "      <td> 0</td>\n",
       "      <td> 66.65</td>\n",
       "      <td> 388.17</td>\n",
       "      <td> 0</td>\n",
       "      <td> 0</td>\n",
       "      <td> 66.54</td>\n",
       "      <td> 154.14</td>\n",
       "      <td> 66.65</td>\n",
       "      <td> 249.56</td>\n",
       "      <td> 256.41</td>\n",
       "      <td> 367.23</td>\n",
       "      <td> 16.74</td>\n",
       "      <td> 9.87</td>\n",
       "      <td> 20.93</td>\n",
       "      <td>...</td>\n",
       "    </tr>\n",
       "    <tr>\n",
       "      <th>B9001534</th>\n",
       "      <td> 1007.70</td>\n",
       "      <td> 16247.26</td>\n",
       "      <td>  58972.03</td>\n",
       "      <td> 0.05</td>\n",
       "      <td> 0</td>\n",
       "      <td>  58972.08</td>\n",
       "      <td> 0</td>\n",
       "      <td>  0.00</td>\n",
       "      <td> 188.13</td>\n",
       "      <td> 0</td>\n",
       "      <td> 0</td>\n",
       "      <td>  0.00</td>\n",
       "      <td>   0.00</td>\n",
       "      <td>  0.00</td>\n",
       "      <td>  98.40</td>\n",
       "      <td> 127.75</td>\n",
       "      <td> 173.65</td>\n",
       "      <td>  8.56</td>\n",
       "      <td> 4.13</td>\n",
       "      <td> 14.48</td>\n",
       "      <td>...</td>\n",
       "    </tr>\n",
       "    <tr>\n",
       "      <th>B3169241</th>\n",
       "      <td> 1057.32</td>\n",
       "      <td> 20480.54</td>\n",
       "      <td>  46826.71</td>\n",
       "      <td> 1.54</td>\n",
       "      <td> 0</td>\n",
       "      <td>  46828.25</td>\n",
       "      <td> 0</td>\n",
       "      <td> 43.11</td>\n",
       "      <td> 126.87</td>\n",
       "      <td> 0</td>\n",
       "      <td> 0</td>\n",
       "      <td> 43.05</td>\n",
       "      <td>  95.27</td>\n",
       "      <td> 43.11</td>\n",
       "      <td>  81.47</td>\n",
       "      <td> 104.08</td>\n",
       "      <td> 120.54</td>\n",
       "      <td>  3.97</td>\n",
       "      <td> 2.93</td>\n",
       "      <td>  6.34</td>\n",
       "      <td>...</td>\n",
       "    </tr>\n",
       "    <tr>\n",
       "      <th>B153737</th>\n",
       "      <td> 1006.14</td>\n",
       "      <td> 16197.12</td>\n",
       "      <td>  58790.03</td>\n",
       "      <td> 0.04</td>\n",
       "      <td> 0</td>\n",
       "      <td>  58790.07</td>\n",
       "      <td> 0</td>\n",
       "      <td>  0.00</td>\n",
       "      <td> 181.33</td>\n",
       "      <td> 0</td>\n",
       "      <td> 0</td>\n",
       "      <td>  0.00</td>\n",
       "      <td>   0.00</td>\n",
       "      <td>  0.00</td>\n",
       "      <td>  91.68</td>\n",
       "      <td> 116.63</td>\n",
       "      <td> 165.42</td>\n",
       "      <td>  8.53</td>\n",
       "      <td> 4.49</td>\n",
       "      <td> 15.92</td>\n",
       "      <td>...</td>\n",
       "    </tr>\n",
       "    <tr>\n",
       "      <th>B302006714</th>\n",
       "      <td>   82.04</td>\n",
       "      <td>   123.30</td>\n",
       "      <td>    281.90</td>\n",
       "      <td> 0.08</td>\n",
       "      <td> 0</td>\n",
       "      <td>    281.99</td>\n",
       "      <td> 0</td>\n",
       "      <td>  2.25</td>\n",
       "      <td>  38.08</td>\n",
       "      <td> 0</td>\n",
       "      <td> 0</td>\n",
       "      <td>  2.21</td>\n",
       "      <td>   8.54</td>\n",
       "      <td>  2.25</td>\n",
       "      <td>  24.32</td>\n",
       "      <td>  19.89</td>\n",
       "      <td>  34.21</td>\n",
       "      <td>  0.02</td>\n",
       "      <td> 1.58</td>\n",
       "      <td>  3.86</td>\n",
       "      <td>...</td>\n",
       "    </tr>\n",
       "  </tbody>\n",
       "</table>\n",
       "<p>5 rows × 30 columns</p>\n",
       "</div>"
      ],
      "text/plain": [
       "              Af_m2  Ealf0_kW  Ealf_MWhyr  Eauxf_MWhyr  Edataf_MWhyr  \\\n",
       "Name                                                                   \n",
       "B153767     2171.24  86365.64   197466.40         2.69             0   \n",
       "B9001534    1007.70  16247.26    58972.03         0.05             0   \n",
       "B3169241    1057.32  20480.54    46826.71         1.54             0   \n",
       "B153737     1006.14  16197.12    58790.03         0.04             0   \n",
       "B302006714    82.04    123.30      281.90         0.08             0   \n",
       "\n",
       "             Ef_MWhyr  Eprof_MWhyr  QCf_MWhyr  QHf_MWhyr  Qcdataf_MWhyr  \\\n",
       "Name                                                                      \n",
       "B153767     197469.08            0      66.65     388.17              0   \n",
       "B9001534     58972.08            0       0.00     188.13              0   \n",
       "B3169241     46828.25            0      43.11     126.87              0   \n",
       "B153737      58790.07            0       0.00     181.33              0   \n",
       "B302006714     281.99            0       2.25      38.08              0   \n",
       "\n",
       "            Qcref_MWhyr  Qcs_MWhyr  Qcsf0_kW  Qcsf_MWhyr  Qhs_MWhyr  Qhsf0_kW  \\\n",
       "Name                                                                            \n",
       "B153767               0      66.54    154.14       66.65     249.56    256.41   \n",
       "B9001534              0       0.00      0.00        0.00      98.40    127.75   \n",
       "B3169241              0      43.05     95.27       43.11      81.47    104.08   \n",
       "B153737               0       0.00      0.00        0.00      91.68    116.63   \n",
       "B302006714            0       2.21      8.54        2.25      24.32     19.89   \n",
       "\n",
       "            Qhsf_MWhyr  Qww_MWhyr  Qwwf0_kW  Qwwf_MWhyr      \n",
       "Name                                                         \n",
       "B153767         367.23      16.74      9.87       20.93 ...  \n",
       "B9001534        173.65       8.56      4.13       14.48 ...  \n",
       "B3169241        120.54       3.97      2.93        6.34 ...  \n",
       "B153737         165.42       8.53      4.49       15.92 ...  \n",
       "B302006714       34.21       0.02      1.58        3.86 ...  \n",
       "\n",
       "[5 rows x 30 columns]"
      ]
     },
     "execution_count": 32,
     "metadata": {},
     "output_type": "execute_result"
    }
   ],
   "source": [
    "df.head()"
   ]
  },
  {
   "cell_type": "code",
   "execution_count": 37,
   "metadata": {
    "collapsed": false
   },
   "outputs": [
    {
     "data": {
      "text/plain": [
       "{'boxes': [<matplotlib.lines.Line2D at 0x7b82350>],\n",
       " 'caps': [<matplotlib.lines.Line2D at 0x7883990>,\n",
       "  <matplotlib.lines.Line2D at 0x7883a30>],\n",
       " 'fliers': [<matplotlib.lines.Line2D at 0x7b82e50>,\n",
       "  <matplotlib.lines.Line2D at 0x7569230>],\n",
       " 'medians': [<matplotlib.lines.Line2D at 0x7b82a70>],\n",
       " 'whiskers': [<matplotlib.lines.Line2D at 0x76fe170>,\n",
       "  <matplotlib.lines.Line2D at 0x7883390>]}"
      ]
     },
     "execution_count": 37,
     "metadata": {},
     "output_type": "execute_result"
    },
    {
     "data": {
      "image/png": "[encoded data removed]",
      "text/plain": [
       "<matplotlib.figure.Figure at 0x76eb810>"
      ]
     },
     "metadata": {},
     "output_type": "display_data"
    }
   ],
   "source": [
    "plt.boxplot(df['QHf_MWhyr'])\n",
    "plt.boxplot(df['QCf_MWhyr'])"
   ]
  },
  {
   "cell_type": "code",
   "execution_count": 48,
   "metadata": {
    "collapsed": false
   },
   "outputs": [
    {
     "data": {
      "text/plain": [
       "{'boxes': [<matplotlib.lines.Line2D at 0x8e0eed0>,\n",
       "  <matplotlib.lines.Line2D at 0x8e1fe10>],\n",
       " 'caps': [<matplotlib.lines.Line2D at 0x8e0e710>,\n",
       "  <matplotlib.lines.Line2D at 0x8e0eaf0>,\n",
       "  <matplotlib.lines.Line2D at 0x8e1f650>,\n",
       "  <matplotlib.lines.Line2D at 0x8e1fa30>],\n",
       " 'fliers': [<matplotlib.lines.Line2D at 0x8e166b0>,\n",
       "  <matplotlib.lines.Line2D at 0x8e16c70>,\n",
       "  <matplotlib.lines.Line2D at 0x8e275f0>,\n",
       "  <matplotlib.lines.Line2D at 0x8e27bb0>],\n",
       " 'medians': [<matplotlib.lines.Line2D at 0x8e162d0>,\n",
       "  <matplotlib.lines.Line2D at 0x8e27210>],\n",
       " 'whiskers': [<matplotlib.lines.Line2D at 0x8e0e130>,\n",
       "  <matplotlib.lines.Line2D at 0x8e0e330>,\n",
       "  <matplotlib.lines.Line2D at 0x8e16e70>,\n",
       "  <matplotlib.lines.Line2D at 0x8e1f270>]}"
      ]
     },
     "execution_count": 48,
     "metadata": {},
     "output_type": "execute_result"
    },
    {
     "data": {
      "image/png": "[encoded data removed]",
      "text/plain": [
       "<matplotlib.figure.Figure at 0x90641d0>"
      ]
     },
     "metadata": {},
     "output_type": "display_data"
    }
   ],
   "source": [
    "df.boxplot(['QHf_MWhyr', 'QCf_MWhyr'], sym='')"
   ]
  },
  {
   "cell_type": "code",
   "execution_count": null,
   "metadata": {
    "collapsed": true
   },
   "outputs": [],
   "source": []
  }
 ],
 "metadata": {
  "kernelspec": {
   "display_name": "Python 2",
   "language": "python",
   "name": "python2"
  },
  "language_info": {
   "codemirror_mode": {
    "name": "ipython",
    "version": 2
   },
   "file_extension": ".py",
   "mimetype": "text/x-python",
   "name": "python",
   "nbconvert_exporter": "python",
   "pygments_lexer": "ipython2",
   "version": "2.7.11"
  }
 },
 "nbformat": 4,
 "nbformat_minor": 0
}
