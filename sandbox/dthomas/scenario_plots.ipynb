{
 "cells": [
  {
   "cell_type": "code",
   "execution_count": 1,
   "metadata": {
    "collapsed": true
   },
   "outputs": [],
   "source": [
    "%matplotlib inline"
   ]
  },
  {
   "cell_type": "code",
   "execution_count": 2,
   "metadata": {
    "collapsed": true
   },
   "outputs": [],
   "source": [
    "import matplotlib.pyplot as plt\n",
    "import pandas as pd"
   ]
  },
  {
   "cell_type": "markdown",
   "metadata": {},
   "source": [
    "# Connect to CEA code"
   ]
  },
  {
   "cell_type": "code",
   "execution_count": 22,
   "metadata": {
    "collapsed": false
   },
   "outputs": [],
   "source": [
    "import sys\n",
    "import os\n",
    "sys.path.append(os.path.expandvars(r'%USERPROFILE%\\Documents\\GitHub\\CEAforArcGIS'))\n",
    "from cea import inputlocator"
   ]
  },
  {
   "cell_type": "markdown",
   "metadata": {},
   "source": [
    "# Locate the scenarios"
   ]
  },
  {
   "cell_type": "code",
   "execution_count": 50,
   "metadata": {
    "collapsed": false
   },
   "outputs": [],
   "source": [
    "SCENARIOS_ROOT = r'C:\\reference-case'\n",
    "locators = [inputlocator.InputLocator(os.path.join(SCENARIOS_ROOT, scenario)) for scenario in os.listdir(SCENARIOS_ROOT)\n",
    "            if os.path.isdir(os.path.join(SCENARIOS_ROOT))]"
   ]
  },
  {
   "cell_type": "code",
   "execution_count": 56,
   "metadata": {
    "collapsed": false
   },
   "outputs": [],
   "source": [
    "final_heating_demand = pd.DataFrame()\n",
    "for locator in locators:\n",
    "    scenario_name = os.path.basename(locator.scenario_path)\n",
    "    if os.path.exists(locator.get_total_demand()):\n",
    "        df = pd.read_csv(locator.get_total_demand())\n",
    "        final_heating_demand[scenario_name] = df['QHf_MWhyr']"
   ]
  },
  {
   "cell_type": "code",
   "execution_count": 60,
   "metadata": {
    "collapsed": false
   },
   "outputs": [
    {
     "data": {
      "image/png": "[encoded data removed]",
      "text/plain": [
       "<matplotlib.figure.Figure at 0x8fe28d0>"
      ]
     },
     "metadata": {},
     "output_type": "display_data"
    }
   ],
   "source": [
    "fig = final_heating_demand.boxplot(sym='')\n",
    "plt.show(fig)"
   ]
  },
  {
   "cell_type": "code",
   "execution_count": 61,
   "metadata": {
    "collapsed": false
   },
   "outputs": [
    {
     "data": {
      "text/plain": [
       "baseline      345707.87\n",
       "Scenario-1    345707.87\n",
       "Scenario-2    345707.87\n",
       "Scenario-3    345707.87\n",
       "dtype: float64"
      ]
     },
     "execution_count": 61,
     "metadata": {},
     "output_type": "execute_result"
    }
   ],
   "source": [
    "final_heating_demand.sum()"
   ]
  },
  {
   "cell_type": "code",
   "execution_count": 65,
   "metadata": {
    "collapsed": false
   },
   "outputs": [
    {
     "data": {
      "text/plain": [
       "<matplotlib.axes.AxesSubplot at 0x93a1f50>"
      ]
     },
     "execution_count": 65,
     "metadata": {},
     "output_type": "execute_result"
    },
    {
     "data": {
      "image/png": "[encoded data removed]",
      "text/plain": [
       "<matplotlib.figure.Figure at 0x93a12f0>"
      ]
     },
     "metadata": {},
     "output_type": "display_data"
    }
   ],
   "source": [
    "final_heating_demand.sum().plot(kind='bar')"
   ]
  },
  {
   "cell_type": "code",
   "execution_count": 74,
   "metadata": {
    "collapsed": false
   },
   "outputs": [
    {
     "data": {
      "text/plain": [
       "['Af_m2',\n",
       " 'Ealf0_kW',\n",
       " 'Ealf_MWhyr',\n",
       " 'Eauxf_MWhyr',\n",
       " 'Edataf_MWhyr',\n",
       " 'Ef_MWhyr',\n",
       " 'Eprof_MWhyr',\n",
       " 'QCf_MWhyr',\n",
       " 'QHf_MWhyr',\n",
       " 'Qcdataf_MWhyr',\n",
       " 'Qcref_MWhyr',\n",
       " 'Qcs_MWhyr',\n",
       " 'Qcsf0_kW',\n",
       " 'Qcsf_MWhyr',\n",
       " 'Qhs_MWhyr',\n",
       " 'Qhsf0_kW',\n",
       " 'Qhsf_MWhyr',\n",
       " 'Qww_MWhyr',\n",
       " 'Qwwf0_kW',\n",
       " 'Qwwf_MWhyr',\n",
       " 'Trcs0_C',\n",
       " 'Trhs0_C',\n",
       " 'Tscs0_C',\n",
       " 'Tshs0_C',\n",
       " 'Tsww0_C',\n",
       " 'Vw0_m3',\n",
       " 'Vw_m3yr',\n",
       " 'mcpcs0_kWC',\n",
       " 'mcphs0_kWC',\n",
       " 'occ_pax']"
      ]
     },
     "execution_count": 74,
     "metadata": {},
     "output_type": "execute_result"
    }
   ],
   "source": [
    "df = pd.read_csv(locator1.get_total_demand()).set_index('Name')\n",
    "list(df.columns)"
   ]
  },
  {
   "cell_type": "code",
   "execution_count": 79,
   "metadata": {
    "collapsed": false
   },
   "outputs": [],
   "source": [
    "demand_plot_columns = ['Ef_MWhyr', 'QHf_MWhyr', 'QCf_MWhyr']\n",
    "embodied_plot_columns = ['pen_MJm2', 'pen_GJ', 'ghg_kgm2', 'ghg_ton']\n",
    "operation_plot_columns = ['pen_MJm2', 'pen_GJ', 'ghg_kgm2', 'ghg_ton']"
   ]
  },
  {
   "cell_type": "code",
   "execution_count": 75,
   "metadata": {
    "collapsed": false
   },
   "outputs": [
    {
     "data": {
      "text/plain": [
       "'C:\\\\reference-case\\\\baseline\\\\outputs\\\\data\\\\emissions\\\\Total_LCA_embodied.csv'"
      ]
     },
     "execution_count": 75,
     "metadata": {},
     "output_type": "execute_result"
    }
   ],
   "source": [
    "locator1.get_lca_embodied('pen_MJm2')"
   ]
  },
  {
   "cell_type": "code",
   "execution_count": 76,
   "metadata": {
    "collapsed": false
   },
   "outputs": [
    {
     "data": {
      "text/plain": [
       "['ghg_kgm2', 'ghg_ton', 'pen_GJ', 'pen_MJm2']"
      ]
     },
     "execution_count": 76,
     "metadata": {},
     "output_type": "execute_result"
    }
   ],
   "source": [
    "list(pd.read_csv(locator1.get_lca_embodied()).set_index('Name').columns)"
   ]
  },
  {
   "cell_type": "code",
   "execution_count": 78,
   "metadata": {
    "collapsed": false
   },
   "outputs": [
    {
     "data": {
      "text/plain": [
       "['pen_GJ', 'ghg_ton', 'pen_MJm2', 'ghg_kgm2']"
      ]
     },
     "execution_count": 78,
     "metadata": {},
     "output_type": "execute_result"
    }
   ],
   "source": [
    "list(pd.read_csv(locator1.get_lca_operation()).set_index('Name').columns)"
   ]
  },
  {
   "cell_type": "code",
   "execution_count": 86,
   "metadata": {
    "collapsed": false
   },
   "outputs": [
    {
     "data": {
      "image/png": "[encoded data removed]",
      "text/plain": [
       "<matplotlib.figure.Figure at 0x9fcfb10>"
      ]
     },
     "metadata": {},
     "output_type": "display_data"
    }
   ],
   "source": [
    "nrows = len(demand_plot_columns) + len(embodied_plot_columns) + len(operation_plot_columns)\n",
    "fig, axes = plt.subplots(nrows=nrows)"
   ]
  },
  {
   "cell_type": "code",
   "execution_count": 88,
   "metadata": {
    "collapsed": false
   },
   "outputs": [
    {
     "data": {
      "text/plain": [
       "(11, 11)"
      ]
     },
     "execution_count": 88,
     "metadata": {},
     "output_type": "execute_result"
    }
   ],
   "source": [
    "len(axes), nrows"
   ]
  },
  {
   "cell_type": "code",
   "execution_count": null,
   "metadata": {
    "collapsed": true
   },
   "outputs": [],
   "source": []
  }
 ],
 "metadata": {
  "kernelspec": {
   "display_name": "Python 2",
   "language": "python",
   "name": "python2"
  },
  "language_info": {
   "codemirror_mode": {
    "name": "ipython",
    "version": 2
   },
   "file_extension": ".py",
   "mimetype": "text/x-python",
   "name": "python",
   "nbconvert_exporter": "python",
   "pygments_lexer": "ipython2",
   "version": "2.7.11"
  }
 },
 "nbformat": 4,
 "nbformat_minor": 0
}
